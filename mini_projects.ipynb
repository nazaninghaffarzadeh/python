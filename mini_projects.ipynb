{
  "nbformat": 4,
  "nbformat_minor": 0,
  "metadata": {
    "colab": {
      "provenance": [],
      "authorship_tag": "ABX9TyNrpyZDaDQQr+Z0kvoP7hdu"
    },
    "kernelspec": {
      "name": "python3",
      "display_name": "Python 3"
    },
    "language_info": {
      "name": "python"
    }
  },
  "cells": [
    {
      "cell_type": "markdown",
      "source": [
        "#1)typing speed"
      ],
      "metadata": {
        "id": "k7fqQaPU4l5E"
      }
    },
    {
      "cell_type": "code",
      "execution_count": 13,
      "metadata": {
        "id": "QPj5zAVwue-Q"
      },
      "outputs": [],
      "source": [
        "from time import time # record the time"
      ]
    },
    {
      "cell_type": "code",
      "source": [
        "# calcuate the accuracy of iput prompt\n",
        "def typerror(prompt):\n",
        "  global inwords\n",
        "\n",
        "  words=prompt.split()\n",
        "  errors=0\n",
        "  for i in range(len(inwords)):\n",
        "    if i in (0,len(inwords)-1):\n",
        "      if inwords[i]==words[i]:\n",
        "        continue\n",
        "      else:\n",
        "        errors=errors+1\n",
        "    else:\n",
        "      if inwords[i]==words[i]:\n",
        "        if(inwords[i+1]==words[i+1])& (inwords[i-1]==words[i-1]):\n",
        "          continue\n",
        "        else:\n",
        "          errors +=1\n",
        "      else:\n",
        "        errors+=1\n",
        "    return errors\n",
        "\n",
        "\n",
        "#calculate tthe speed of typing words per minute\n",
        "def speed(inprompt,stime,etime):\n",
        "  global time\n",
        "  global inwords\n",
        "\n",
        "  inwords=inprompt.split()\n",
        "  twords=len(inwords)\n",
        "  speed=twords/time\n",
        "\n",
        "  return speed\n",
        "\n",
        "\n",
        "# calculate totoal elapsed time\n",
        "def elpasedtime(stime,etime):\n",
        "  time=etime-stime\n",
        "  return time\n",
        "\n",
        "if __name__ =='__main__':\n",
        "  prompt=\"It includes how many words you have typed per min(avg of that) how many errors you got while typing total time you took to write that paragraph\"\n",
        "  # this is the paragharaph that should be typed\n",
        "  print('type this:- ',prompt)\n",
        "\n",
        "  #cheking to input enter bascilayy it will see\n",
        "  input(\"press enter you are ready to check your speed\")\n",
        "\n",
        "  #recording time for input\n",
        "  stime= time()\n",
        "  inprompt=input()\n",
        "  etime= time()\n",
        "\n",
        "  #collect all the information\n",
        "  time=round(elpasedtime(stime,etime),2)\n",
        "  speed=speed(inprompt,stime,etime)\n",
        "  errors=typerror(prompt)\n",
        "\n",
        "\n",
        "  print(\"total time elapsed :\" ,time,\"seconds\")\n",
        "  print(\"you aeverage typing speed was \",speed ,\"  words per minute \")\n",
        "  print(\"wiht the total of \",errors,\" errors\")"
      ],
      "metadata": {
        "id": "cwIR4WWRu9Jf"
      },
      "execution_count": null,
      "outputs": []
    },
    {
      "cell_type": "markdown",
      "source": [
        "#2) voting system"
      ],
      "metadata": {
        "id": "beMd12I74tiT"
      }
    },
    {
      "cell_type": "code",
      "source": [
        "# first take input of what nominee what we want to keep\n",
        "nominee1=input(\"neter the name of 1st nominee: \")\n",
        "nominee2=input(\"enter the name of 2nd nominee: \")\n",
        "\n",
        "# initilaze cote count for both must be 0\n",
        "nm1_vote=0\n",
        "nm2_vote=0\n",
        "voter_id=[1,2,3,4]\n",
        "n_of_voter=len(voter_id)\n",
        "while True:\n",
        "\n",
        "  if voter_id==[]: # ot chekc voter list is complited\n",
        "    print('voting session is over')\n",
        "    if nm1_vote > nm2_vote:\n",
        "      percent=(nm1_vote/n_of_voter)*100\n",
        "      print(f\"{nominee1} has won with {percent} of vote\")\n",
        "      break\n",
        "    elif nm1_vote < nm2_vote:\n",
        "      percent=(nm2_vote/n_of_voter)*100\n",
        "      print(f\"{nominee2} has won with {percent} of vote\")\n",
        "      break\n",
        "    else:\n",
        "      print(\"both have equal number of votes \")\n",
        "      break\n",
        "\n",
        "  voter=int(input(\"enter your vote id: \"))\n",
        "  if voter in voter_id:\n",
        "    voter_id.remove(voter) # we will remove so that agein not to vote\n",
        "    print(\"-------------------------------------\")\n",
        "    print(\"to give voter to \",nominee1,\" press 1\")\n",
        "    print(f\" to give vot ot {nominee2}  press 2\")\n",
        "    print(\"-------------------------------------\")\n",
        "    vote=int(input(\"enter the vote \"))\n",
        "    if vote==1:\n",
        "      nm1_vote +=1\n",
        "      print(nominee1,\"thanks you for your vote\")\n",
        "    elif vote==2:\n",
        "      nm2_vote +=1\n",
        "      print(nominee2,\"thanks you for your vote\")\n",
        "    elif vote>2:\n",
        "      print(\"chkecj your presse key\")\n",
        "    else:\n",
        "      print( \" you are not pressing right key\")"
      ],
      "metadata": {
        "colab": {
          "base_uri": "https://localhost:8080/"
        },
        "id": "LQbgPA7oxAst",
        "outputId": "f4bf993a-d0e6-4c93-f18a-a26dd061214f"
      },
      "execution_count": 25,
      "outputs": [
        {
          "output_type": "stream",
          "name": "stdout",
          "text": [
            "neter the name of 1st nominee: naz\n",
            "enter the name of 2nd nominee: nil\n",
            "enter your vote id: 1\n",
            "-------------------------------------\n",
            "to give voter to  naz  press 1\n",
            " to give vot ot nil  press 2\n",
            "-------------------------------------\n",
            "enter the vote 1\n",
            "naz thanks you for your vote\n",
            "enter your vote id: 2\n",
            "-------------------------------------\n",
            "to give voter to  naz  press 1\n",
            " to give vot ot nil  press 2\n",
            "-------------------------------------\n",
            "enter the vote 1\n",
            "naz thanks you for your vote\n",
            "enter your vote id: 2\n",
            "enter your vote id: 3\n",
            "-------------------------------------\n",
            "to give voter to  naz  press 1\n",
            " to give vot ot nil  press 2\n",
            "-------------------------------------\n",
            "enter the vote 1\n",
            "naz thanks you for your vote\n",
            "enter your vote id: 4\n",
            "-------------------------------------\n",
            "to give voter to  naz  press 1\n",
            " to give vot ot nil  press 2\n",
            "-------------------------------------\n",
            "enter the vote 1\n",
            "naz thanks you for your vote\n",
            "voting session is over\n",
            "naz has won with 100.0 of vote\n"
          ]
        }
      ]
    },
    {
      "cell_type": "markdown",
      "source": [
        "#3) Text to speech"
      ],
      "metadata": {
        "id": "U-t7g8DfBmtj"
      }
    },
    {
      "cell_type": "code",
      "source": [
        "!pip install gtts"
      ],
      "metadata": {
        "colab": {
          "base_uri": "https://localhost:8080/"
        },
        "id": "xHFAe7PRCCwY",
        "outputId": "a049ace1-b73e-4d16-bf72-8d325da574f6"
      },
      "execution_count": 28,
      "outputs": [
        {
          "output_type": "stream",
          "name": "stdout",
          "text": [
            "Collecting gtts\n",
            "  Downloading gTTS-2.3.2-py3-none-any.whl (28 kB)\n",
            "Requirement already satisfied: requests<3,>=2.27 in /usr/local/lib/python3.10/dist-packages (from gtts) (2.31.0)\n",
            "Requirement already satisfied: click<8.2,>=7.1 in /usr/local/lib/python3.10/dist-packages (from gtts) (8.1.7)\n",
            "Requirement already satisfied: charset-normalizer<4,>=2 in /usr/local/lib/python3.10/dist-packages (from requests<3,>=2.27->gtts) (3.2.0)\n",
            "Requirement already satisfied: idna<4,>=2.5 in /usr/local/lib/python3.10/dist-packages (from requests<3,>=2.27->gtts) (3.4)\n",
            "Requirement already satisfied: urllib3<3,>=1.21.1 in /usr/local/lib/python3.10/dist-packages (from requests<3,>=2.27->gtts) (2.0.4)\n",
            "Requirement already satisfied: certifi>=2017.4.17 in /usr/local/lib/python3.10/dist-packages (from requests<3,>=2.27->gtts) (2023.7.22)\n",
            "Installing collected packages: gtts\n",
            "Successfully installed gtts-2.3.2\n"
          ]
        }
      ]
    },
    {
      "cell_type": "code",
      "source": [
        "from gtts import gTTS # this module is for text to speech"
      ],
      "metadata": {
        "id": "qwTuJz1PBmer"
      },
      "execution_count": 30,
      "outputs": []
    },
    {
      "cell_type": "code",
      "source": [
        "import os"
      ],
      "metadata": {
        "id": "muTtl6aZDQLC"
      },
      "execution_count": 32,
      "outputs": []
    },
    {
      "cell_type": "code",
      "source": [
        "text=\"helo this is nazanin speaking how are you all?\"\n",
        "language='en'\n",
        "obj=gTTS(text=text,lang=language,slow=False)\n",
        "obj.save('sample.mp3')\n"
      ],
      "metadata": {
        "id": "27FfW0UiCXdq"
      },
      "execution_count": 31,
      "outputs": []
    },
    {
      "cell_type": "code",
      "source": [
        "# if you want from file that you can can chage this\n",
        "abc=open('/content/sample2.txt.txt')\n",
        "\n",
        "text=abc.read()\n",
        "language='en'\n",
        "obj=gTTS(text=text,lang=language,slow=False)\n",
        "obj.save('sample2.mp3')\n",
        "\n",
        "# to open the file automaticly we have to import os\n",
        "# os.system('sample2.mp3')"
      ],
      "metadata": {
        "id": "U5Tpl7isDpCz"
      },
      "execution_count": 34,
      "outputs": []
    },
    {
      "cell_type": "markdown",
      "source": [
        "#4) webmap"
      ],
      "metadata": {
        "id": "vVJIGbJfFrBC"
      }
    },
    {
      "cell_type": "code",
      "source": [
        "import folium"
      ],
      "metadata": {
        "id": "cdj7QhQCFqyS"
      },
      "execution_count": 35,
      "outputs": []
    },
    {
      "cell_type": "code",
      "source": [
        "#parent map\n",
        "fg=folium.FeatureGroup('map')\n",
        "fg.add_child(folium.GeoJson(data=(open(\"india_states.json\",\"r\",encoding='utf=8-sig').read())))\n",
        "#utf means unicode trasnformation format\n",
        "# 8 is for 8 bit\n",
        "# sig means signature\n",
        "# this is used becuase it treats file as BOM information instead of string\n",
        "map=folium.Map(location=[20.000,75.000],zoom_start=4)\n",
        "map.save('sample.html')"
      ],
      "metadata": {
        "id": "rAVuU9uRQ68F"
      },
      "execution_count": null,
      "outputs": []
    },
    {
      "cell_type": "markdown",
      "source": [
        "#5) ATM machine"
      ],
      "metadata": {
        "id": "EMIVAmk6SqFd"
      }
    },
    {
      "cell_type": "code",
      "source": [
        "import time"
      ],
      "metadata": {
        "id": "ZJq0APgVU7ol"
      },
      "execution_count": 40,
      "outputs": []
    },
    {
      "cell_type": "code",
      "source": [
        "print(\"please insert your Card\")\n",
        "time.sleep(5)\n",
        "password=1234\n",
        "pin=int(input(\"enter your passwaord\"))\n",
        "balance =5000\n",
        "if pin==password:\n",
        "  while True:\n",
        "\n",
        "      print(\"\"\"\n",
        "              1== balance\n",
        "              2==withdraw balance\n",
        "              3== deposit balance\n",
        "              4== exit\n",
        "              \"\"\")\n",
        "      try:\n",
        "        option=int(input(\"please enter your choice\"))\n",
        "      except:\n",
        "        print(\"please enter valid option \")\n",
        "\n",
        "\n",
        "      if option ==1:\n",
        "        print(f\"your balace is {balance}\")\n",
        "\n",
        "      elif option ==2:\n",
        "        withdrwa_amount=int(input(\"please enter amount\"))\n",
        "        balance=balance-withdrwa_amount\n",
        "        print(f\"{withdrwa_amount} is debited from your acount\")\n",
        "        print(f\"your current balace is {balance}\")\n",
        "\n",
        "      elif option==3:\n",
        "        deposit_amount=int(input(\"enter deposite amount\"))\n",
        "        balance=balance+deposite_amount\n",
        "        print(f\"{deposite_amount} is debited from your acount\")\n",
        "        print(f\"your current balace is {balance}\")\n",
        "\n",
        "      elif option == 4:\n",
        "        break\n",
        "  else: print(\"wrong pass please try agian \")\n"
      ],
      "metadata": {
        "colab": {
          "base_uri": "https://localhost:8080/"
        },
        "id": "5vuT4YYKU-xE",
        "outputId": "9563efd3-4a62-4a15-cc77-d9ad8a6582f6"
      },
      "execution_count": 44,
      "outputs": [
        {
          "name": "stdout",
          "output_type": "stream",
          "text": [
            "please insert your Card\n",
            "enter your passwaord1234\n",
            "\n",
            "              1== balance\n",
            "              2==withdraw balance\n",
            "              3== deposit balance\n",
            "              4== exit\n",
            "              \n",
            "please enter your choice2\n",
            "please enter amount200\n",
            "200 is debited from your acount\n",
            "your current balace is 4800\n",
            "\n",
            "              1== balance\n",
            "              2==withdraw balance\n",
            "              3== deposit balance\n",
            "              4== exit\n",
            "              \n",
            "please enter your choice4\n"
          ]
        }
      ]
    }
  ]
}